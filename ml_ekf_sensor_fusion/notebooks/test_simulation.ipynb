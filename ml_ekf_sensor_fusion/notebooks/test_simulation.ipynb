{
 "cells": [
  {
   "cell_type": "markdown",
   "metadata": {},
   "source": [
    "# 🚀 ML-EKF Sensor Fusion Pipeline Test\n",
    "\n",
    "This notebook tests the complete pipeline:\n",
    "1. **Trajectory Generation** → 2. **Sensor Simulation** → 3. **Visualization**\n",
    "\n",
    "## Overview\n",
    "- Generate synthetic 6-DOF ground truth trajectory\n",
    "- Simulate realistic IMU and GNSS measurements\n",
    "- Visualize and verify the sensor data quality"
   ]
  },
  {
   "cell_type": "markdown",
   "metadata": {},
   "source": [
    "## 1. Setup and Imports"
   ]
  },
  {
   "cell_type": "code",
   "execution_count": 1,
   "metadata": {},
   "outputs": [
    {
     "name": "stdout",
     "output_type": "stream",
     "text": [
      "✅ All modules imported successfully!\n"
     ]
    }
   ],
   "source": [
    "# Standard scientific computing imports\n",
    "import numpy as np\n",
    "import matplotlib.pyplot as plt\n",
    "\n",
    "# Configure matplotlib for better plots\n",
    "plt.style.use('default')\n",
    "plt.rcParams['figure.figsize'] = (12, 8)\n",
    "plt.rcParams['font.size'] = 12\n",
    "\n",
    "# Import our custom modules\n",
    "import sys\n",
    "sys.path.append('..')\n",
    "\n",
    "from simulation.trajectory_generator import generate_trajectory\n",
    "from simulation.sensor_simulator import SensorSimulator\n",
    "from visualization.plots import (\n",
    "    plot_imu_timeseries, \n",
    "    plot_gnss_vs_ground_truth,\n",
    "    plot_sensor_comparison,\n",
    "    plot_imu_histograms\n",
    ")\n",
    "\n",
    "print(\"✅ All modules imported successfully!\")"
   ]
  },
  {
   "cell_type": "markdown",
   "metadata": {},
   "source": [
    "## 2. Generate Ground Truth Trajectory\n",
    "\n",
    "Create a synthetic 6-DOF trajectory that will serve as our ground truth."
   ]
  },
  {
   "cell_type": "code",
   "execution_count": 2,
   "metadata": {},
   "outputs": [
    {
     "name": "stdout",
     "output_type": "stream",
     "text": [
      "Generating circular trajectory for 10.0 seconds at 100 Hz...\n",
      "✅ Generated 1000 trajectory points\n",
      "   Time range: 0.00s to 9.99s\n",
      "   Position range: X[-5.00, 5.00] m\n",
      "   Velocity range: V[-3.14, 3.14] m/s\n"
     ]
    }
   ],
   "source": [
    "# Trajectory parameters\n",
    "duration = 10.0  # seconds\n",
    "dt = 0.01       # 100 Hz sampling rate\n",
    "mode = \"circular\"\n",
    "\n",
    "print(f\"Generating {mode} trajectory for {duration} seconds at {1/dt:.0f} Hz...\")\n",
    "\n",
    "# Generate the trajectory\n",
    "timestamps, positions, velocities, orientations = generate_trajectory(\n",
    "    duration=duration,\n",
    "    dt=dt,\n",
    "    mode=mode,\n",
    "    radius=5.0,  # 5 meter radius circle\n",
    "    z_amplitude=1.0  # Gentle vertical oscillation\n",
    ")\n",
    "\n",
    "print(f\"✅ Generated {len(timestamps)} trajectory points\")\n",
    "print(f\"   Time range: {timestamps[0]:.2f}s to {timestamps[-1]:.2f}s\")\n",
    "print(f\"   Position range: X[{positions[:, 0].min():.2f}, {positions[:, 0].max():.2f}] m\")\n",
    "print(f\"   Velocity range: V[{velocities[:, 0].min():.2f}, {velocities[:, 0].max():.2f}] m/s\")"
   ]
  },
  {
   "cell_type": "markdown",
   "metadata": {},
   "source": [
    "## 3. Simulate IMU and GNSS Sensors\n",
    "\n",
    "Convert the ground truth trajectory into realistic sensor measurements with noise."
   ]
  },
  {
   "cell_type": "code",
   "execution_count": 3,
   "metadata": {},
   "outputs": [
    {
     "name": "stdout",
     "output_type": "stream",
     "text": [
      "Simulating sensor measurements...\n"
     ]
    },
    {
     "ename": "ValueError",
     "evalue": "operands could not be broadcast together with shapes (998,3) (998,) ",
     "output_type": "error",
     "traceback": [
      "\u001b[1;31m---------------------------------------------------------------------------\u001b[0m",
      "\u001b[1;31mValueError\u001b[0m                                Traceback (most recent call last)",
      "Cell \u001b[1;32mIn[3], line 14\u001b[0m\n\u001b[0;32m     11\u001b[0m \u001b[38;5;28mprint\u001b[39m(\u001b[38;5;124m\"\u001b[39m\u001b[38;5;124mSimulating sensor measurements...\u001b[39m\u001b[38;5;124m\"\u001b[39m)\n\u001b[0;32m     13\u001b[0m \u001b[38;5;66;03m# Simulate both IMU and GNSS measurements\u001b[39;00m\n\u001b[1;32m---> 14\u001b[0m imu_data, gnss_data \u001b[38;5;241m=\u001b[39m simulator\u001b[38;5;241m.\u001b[39msimulate_sensors(\n\u001b[0;32m     15\u001b[0m     timestamps\u001b[38;5;241m=\u001b[39mtimestamps,\n\u001b[0;32m     16\u001b[0m     positions\u001b[38;5;241m=\u001b[39mpositions,\n\u001b[0;32m     17\u001b[0m     velocities\u001b[38;5;241m=\u001b[39mvelocities,\n\u001b[0;32m     18\u001b[0m     orientations\u001b[38;5;241m=\u001b[39morientations\n\u001b[0;32m     19\u001b[0m )\n\u001b[0;32m     21\u001b[0m \u001b[38;5;28mprint\u001b[39m(\u001b[38;5;124mf\u001b[39m\u001b[38;5;124m\"\u001b[39m\u001b[38;5;124m✅ Generated IMU data: \u001b[39m\u001b[38;5;132;01m{\u001b[39;00m\u001b[38;5;28mlen\u001b[39m(imu_data[\u001b[38;5;124m'\u001b[39m\u001b[38;5;124mtimestamps\u001b[39m\u001b[38;5;124m'\u001b[39m])\u001b[38;5;132;01m}\u001b[39;00m\u001b[38;5;124m measurements\u001b[39m\u001b[38;5;124m\"\u001b[39m)\n\u001b[0;32m     22\u001b[0m \u001b[38;5;28mprint\u001b[39m(\u001b[38;5;124mf\u001b[39m\u001b[38;5;124m\"\u001b[39m\u001b[38;5;124m✅ Generated GNSS data: \u001b[39m\u001b[38;5;132;01m{\u001b[39;00m\u001b[38;5;28mlen\u001b[39m(gnss_data[\u001b[38;5;124m'\u001b[39m\u001b[38;5;124mtimestamps\u001b[39m\u001b[38;5;124m'\u001b[39m])\u001b[38;5;132;01m}\u001b[39;00m\u001b[38;5;124m measurements\u001b[39m\u001b[38;5;124m\"\u001b[39m)\n",
      "File \u001b[1;32mc:\\Users\\aden2\\OneDrive\\Desktop\\Portfolio\\span_ekf_project\\ml_ekf_sensor_fusion\\notebooks\\..\\simulation\\sensor_simulator.py:316\u001b[0m, in \u001b[0;36mSensorSimulator.simulate_sensors\u001b[1;34m(self, timestamps, positions, velocities, orientations)\u001b[0m\n\u001b[0;32m    313\u001b[0m     \u001b[38;5;28;01mraise\u001b[39;00m \u001b[38;5;167;01mValueError\u001b[39;00m(\u001b[38;5;124m\"\u001b[39m\u001b[38;5;124mAt least 2 time points are required for sensor simulation\u001b[39m\u001b[38;5;124m\"\u001b[39m)\n\u001b[0;32m    315\u001b[0m \u001b[38;5;66;03m# Simulate IMU measurements\u001b[39;00m\n\u001b[1;32m--> 316\u001b[0m imu_data \u001b[38;5;241m=\u001b[39m \u001b[38;5;28mself\u001b[39m\u001b[38;5;241m.\u001b[39msimulate_imu_measurements(\n\u001b[0;32m    317\u001b[0m     timestamps, positions, velocities, orientations\n\u001b[0;32m    318\u001b[0m )\n\u001b[0;32m    320\u001b[0m \u001b[38;5;66;03m# Simulate GNSS measurements\u001b[39;00m\n\u001b[0;32m    321\u001b[0m gnss_data \u001b[38;5;241m=\u001b[39m \u001b[38;5;28mself\u001b[39m\u001b[38;5;241m.\u001b[39msimulate_gnss_measurements(\n\u001b[0;32m    322\u001b[0m     timestamps, positions, velocities\n\u001b[0;32m    323\u001b[0m )\n",
      "File \u001b[1;32mc:\\Users\\aden2\\OneDrive\\Desktop\\Portfolio\\span_ekf_project\\ml_ekf_sensor_fusion\\notebooks\\..\\simulation\\sensor_simulator.py:197\u001b[0m, in \u001b[0;36mSensorSimulator.simulate_imu_measurements\u001b[1;34m(self, timestamps, positions, velocities, orientations)\u001b[0m\n\u001b[0;32m    194\u001b[0m N \u001b[38;5;241m=\u001b[39m \u001b[38;5;28mlen\u001b[39m(timestamps)\n\u001b[0;32m    196\u001b[0m \u001b[38;5;66;03m# Compute world-frame acceleration\u001b[39;00m\n\u001b[1;32m--> 197\u001b[0m world_accel \u001b[38;5;241m=\u001b[39m \u001b[38;5;28mself\u001b[39m\u001b[38;5;241m.\u001b[39mcompute_acceleration(velocities, timestamps)\n\u001b[0;32m    199\u001b[0m \u001b[38;5;66;03m# Compute angular velocity\u001b[39;00m\n\u001b[0;32m    200\u001b[0m angular_vel \u001b[38;5;241m=\u001b[39m \u001b[38;5;28mself\u001b[39m\u001b[38;5;241m.\u001b[39mquaternion_to_angular_velocity(orientations, timestamps)\n",
      "File \u001b[1;32mc:\\Users\\aden2\\OneDrive\\Desktop\\Portfolio\\span_ekf_project\\ml_ekf_sensor_fusion\\notebooks\\..\\simulation\\sensor_simulator.py:84\u001b[0m, in \u001b[0;36mSensorSimulator.compute_acceleration\u001b[1;34m(self, velocities, timestamps)\u001b[0m\n\u001b[0;32m     82\u001b[0m \u001b[38;5;66;03m# Central differences for interior points\u001b[39;00m\n\u001b[0;32m     83\u001b[0m \u001b[38;5;28;01mif\u001b[39;00m N \u001b[38;5;241m>\u001b[39m \u001b[38;5;241m2\u001b[39m:\n\u001b[1;32m---> 84\u001b[0m     accelerations[\u001b[38;5;241m1\u001b[39m:\u001b[38;5;241m-\u001b[39m\u001b[38;5;241m1\u001b[39m] \u001b[38;5;241m=\u001b[39m (velocities[\u001b[38;5;241m2\u001b[39m:] \u001b[38;5;241m-\u001b[39m velocities[:\u001b[38;5;241m-\u001b[39m\u001b[38;5;241m2\u001b[39m]) \u001b[38;5;241m/\u001b[39m (dt[:\u001b[38;5;241m-\u001b[39m\u001b[38;5;241m1\u001b[39m] \u001b[38;5;241m+\u001b[39m dt[\u001b[38;5;241m1\u001b[39m:])\n\u001b[0;32m     86\u001b[0m \u001b[38;5;66;03m# Forward/backward differences for boundary points\u001b[39;00m\n\u001b[0;32m     87\u001b[0m \u001b[38;5;28;01mif\u001b[39;00m N \u001b[38;5;241m>\u001b[39m \u001b[38;5;241m1\u001b[39m:\n",
      "\u001b[1;31mValueError\u001b[0m: operands could not be broadcast together with shapes (998,3) (998,) "
     ]
    }
   ],
   "source": [
    "# Create sensor simulator with moderate noise levels\n",
    "simulator = SensorSimulator(\n",
    "    accel_noise_std=0.05,    # Accelerometer noise (m/s²)\n",
    "    gyro_noise_std=0.01,     # Gyroscope noise (rad/s)\n",
    "    accel_bias_std=0.01,     # Accelerometer bias (m/s²)\n",
    "    gyro_bias_std=0.001,     # Gyroscope bias (rad/s)\n",
    "    gnss_noise_std=0.5,      # GNSS position noise (m)\n",
    "    gnss_rate=1.0            # GNSS update rate (Hz)\n",
    ")\n",
    "\n",
    "print(\"Simulating sensor measurements...\")\n",
    "\n",
    "# Simulate both IMU and GNSS measurements\n",
    "imu_data, gnss_data = simulator.simulate_sensors(\n",
    "    timestamps=timestamps,\n",
    "    positions=positions,\n",
    "    velocities=velocities,\n",
    "    orientations=orientations\n",
    ")\n",
    "\n",
    "print(f\"✅ Generated IMU data: {len(imu_data['timestamps'])} measurements\")\n",
    "print(f\"✅ Generated GNSS data: {len(gnss_data['timestamps'])} measurements\")\n",
    "print(f\"   GNSS rate: {len(gnss_data['timestamps'])/duration:.1f} Hz\")"
   ]
  },
  {
   "cell_type": "markdown",
   "metadata": {},
   "source": [
    "## 4. Visualize IMU Time Series Data\n",
    "\n",
    "Plot the accelerometer and gyroscope measurements over time."
   ]
  },
  {
   "cell_type": "code",
   "execution_count": null,
   "metadata": {},
   "outputs": [],
   "source": [
    "# Plot IMU measurements\n",
    "plot_imu_timeseries(\n",
    "    imu_data=imu_data,\n",
    "    title=f\"Synthetic IMU Data - {mode.capitalize()} Trajectory\",\n",
    "    figsize=(15, 10)\n",
    ")"
   ]
  },
  {
   "cell_type": "markdown",
   "metadata": {},
   "source": [
    "## 5. Visualize GNSS vs Ground Truth\n",
    "\n",
    "Compare the noisy GNSS measurements with the ground truth trajectory."
   ]
  },
  {
   "cell_type": "code",
   "execution_count": null,
   "metadata": {},
   "outputs": [],
   "source": [
    "# Plot GNSS measurements vs ground truth\n",
    "plot_gnss_vs_ground_truth(\n",
    "    gnss_data=gnss_data,\n",
    "    ground_truth_positions=positions,\n",
    "    ground_truth_timestamps=timestamps,\n",
    "    title=f\"GNSS vs Ground Truth - {mode.capitalize()} Trajectory\",\n",
    "    figsize=(15, 10)\n",
    ")"
   ]
  },
  {
   "cell_type": "markdown",
   "metadata": {},
   "source": [
    "## 6. Comprehensive Sensor Data Overview\n",
    "\n",
    "Create a comprehensive visualization showing all aspects of the sensor data."
   ]
  },
  {
   "cell_type": "code",
   "execution_count": null,
   "metadata": {},
   "outputs": [],
   "source": [
    "# Create comprehensive sensor overview\n",
    "plot_sensor_comparison(\n",
    "    imu_data=imu_data,\n",
    "    gnss_data=gnss_data,\n",
    "    ground_truth_positions=positions,\n",
    "    ground_truth_timestamps=timestamps,\n",
    "    title=f\"Sensor Data Overview - {mode.capitalize()} Trajectory\",\n",
    "    figsize=(20, 12)\n",
    ")"
   ]
  },
  {
   "cell_type": "markdown",
   "metadata": {},
   "source": [
    "## 7. Analyze IMU Noise Distributions\n",
    "\n",
    "Examine the statistical properties of the IMU measurements to verify noise characteristics."
   ]
  },
  {
   "cell_type": "code",
   "execution_count": null,
   "metadata": {},
   "outputs": [],
   "source": [
    "# Plot IMU noise distributions\n",
    "plot_imu_histograms(\n",
    "    imu_data=imu_data,\n",
    "    title=f\"IMU Noise Distributions - {mode.capitalize()} Trajectory\",\n",
    "    figsize=(15, 8)\n",
    ")"
   ]
  },
  {
   "cell_type": "markdown",
   "metadata": {},
   "source": [
    "## 8. Data Quality Analysis\n",
    "\n",
    "Calculate and display key metrics about the generated sensor data."
   ]
  },
  {
   "cell_type": "code",
   "execution_count": null,
   "metadata": {},
   "outputs": [],
   "source": [
    "# Calculate sensor data statistics\n",
    "print(\"📊 Sensor Data Quality Analysis\")\n",
    "print(\"=\" * 50)\n",
    "\n",
    "# IMU statistics\n",
    "accel_data = imu_data['accel']\n",
    "gyro_data = imu_data['gyro']\n",
    "\n",
    "print(\"\\n📈 IMU Statistics:\")\n",
    "print(f\"   Accelerometer std dev: {np.std(accel_data, axis=0)}\")\n",
    "print(f\"   Gyroscope std dev: {np.std(gyro_data, axis=0)}\")\n",
    "print(f\"   Accelerometer range: {np.ptp(accel_data, axis=0)}\")\n",
    "print(f\"   Gyroscope range: {np.ptp(gyro_data, axis=0)}\")\n",
    "\n",
    "# GNSS statistics\n",
    "gnss_positions = gnss_data['positions']\n",
    "gnss_timestamps = gnss_data['timestamps']\n",
    "\n",
    "# Calculate GNSS errors\n",
    "gnss_errors = []\n",
    "for i, gnss_time in enumerate(gnss_timestamps):\n",
    "    # Find closest ground truth timestamp\n",
    "    gt_idx = np.argmin(np.abs(timestamps - gnss_time))\n",
    "    error = np.linalg.norm(gnss_positions[i] - positions[gt_idx])\n",
    "    gnss_errors.append(error)\n",
    "\n",
    "gnss_errors = np.array(gnss_errors)\n",
    "\n",
    "print(\"\\n📡 GNSS Statistics:\")\n",
    "print(f\"   Number of measurements: {len(gnss_positions)}\")\n",
    "print(f\"   Average measurement interval: {np.mean(np.diff(gnss_timestamps)):.3f} s\")\n",
    "print(f\"   Position error - Mean: {np.mean(gnss_errors):.3f} m\")\n",
    "print(f\"   Position error - Std: {np.std(gnss_errors):.3f} m\")\n",
    "print(f\"   Position error - Max: {np.max(gnss_errors):.3f} m\")\n",
    "\n",
    "# Trajectory statistics\n",
    "total_distance = np.sum(np.linalg.norm(np.diff(positions, axis=0), axis=1))\n",
    "max_velocity = np.max(np.linalg.norm(velocities, axis=1))\n",
    "avg_velocity = np.mean(np.linalg.norm(velocities, axis=1))\n",
    "\n",
    "print(\"\\n🎯 Trajectory Statistics:\")\n",
    "print(f\"   Total distance traveled: {total_distance:.2f} m\")\n",
    "print(f\"   Maximum velocity: {max_velocity:.2f} m/s\")\n",
    "print(f\"   Average velocity: {avg_velocity:.2f} m/s\")\n",
    "print(f\"   Trajectory duration: {duration:.1f} s\")"
   ]
  },
  {
   "cell_type": "markdown",
   "metadata": {},
   "source": [
    "## 9. Test Different Trajectory Types\n",
    "\n",
    "Let's also test with a different trajectory type to see how the sensors perform."
   ]
  },
  {
   "cell_type": "code",
   "execution_count": null,
   "metadata": {},
   "outputs": [],
   "source": [
    "# Generate a different trajectory type\n",
    "print(\"\\n🔄 Testing with sinusoidal trajectory...\")\n",
    "\n",
    "# Generate sinusoidal trajectory\n",
    "timestamps_sin, positions_sin, velocities_sin, orientations_sin = generate_trajectory(\n",
    "    duration=duration,\n",
    "    dt=dt,\n",
    "    mode=\"sinusoidal\",\n",
    "    amplitude=3.0,\n",
    "    freq_x=0.5,\n",
    "    freq_y=0.7,\n",
    "    freq_z=0.9\n",
    ")\n",
    "\n",
    "# Simulate sensors for sinusoidal trajectory\n",
    "imu_data_sin, gnss_data_sin = simulator.simulate_sensors(\n",
    "    timestamps=timestamps_sin,\n",
    "    positions=positions_sin,\n",
    "    velocities=velocities_sin,\n",
    "    orientations=orientations_sin\n",
    ")\n",
    "\n",
    "# Quick comparison plot\n",
    "plot_gnss_vs_ground_truth(\n",
    "    gnss_data=gnss_data_sin,\n",
    "    ground_truth_positions=positions_sin,\n",
    "    ground_truth_timestamps=timestamps_sin,\n",
    "    title=\"GNSS vs Ground Truth - Sinusoidal Trajectory\",\n",
    "    figsize=(15, 10)\n",
    ")"
   ]
  },
  {
   "cell_type": "markdown",
   "metadata": {},
   "source": [
    "## 10. Summary and Next Steps\n",
    "\n",
    "### ✅ What We've Accomplished:\n",
    "1. **Generated realistic 6-DOF trajectories** with configurable parameters\n",
    "2. **Simulated IMU measurements** with proper noise and bias modeling\n",
    "3. **Simulated GNSS measurements** with realistic timing and noise\n",
    "4. **Visualized all sensor data** with comprehensive plotting tools\n",
    "5. **Analyzed data quality** with statistical metrics\n",
    "\n",
    "### 🎯 Key Observations:\n",
    "- IMU data shows realistic noise characteristics\n",
    "- GNSS measurements properly subsample the trajectory\n",
    "- Sensor noise levels are appropriate for the specified parameters\n",
    "- Visualization tools provide clear insights into data quality\n",
    "\n",
    "### 🚀 Next Steps:\n",
    "- Implement the EKF filter to process these sensor measurements\n",
    "- Train ML models on the synthetic data\n",
    "- Compare EKF performance with different noise levels\n",
    "- Add more complex trajectory types and sensor configurations"
   ]
  },
  {
   "cell_type": "code",
   "execution_count": null,
   "metadata": {},
   "outputs": [],
   "source": [
    "print(\"🎉 Pipeline test completed successfully!\")\n",
    "print(\"\\n📋 Generated data summary:\")\n",
    "print(f\"   - IMU measurements: {len(imu_data['timestamps'])} points at {1/dt:.0f} Hz\")\n",
    "print(f\"   - GNSS measurements: {len(gnss_data['timestamps'])} points at {len(gnss_data['timestamps'])/duration:.1f} Hz\")\n",
    "print(f\"   - Trajectory duration: {duration:.1f} seconds\")\n",
    "print(f\"   - Total distance: {np.sum(np.linalg.norm(np.diff(positions, axis=0), axis=1)):.2f} meters\")\n",
    "print(\"\\n✅ Ready for EKF implementation and ML training!\")"
   ]
  }
 ],
 "metadata": {
  "kernelspec": {
   "display_name": "Python (ml-sim-env)",
   "language": "python",
   "name": "ml-sim-env"
  },
  "language_info": {
   "codemirror_mode": {
    "name": "ipython",
    "version": 3
   },
   "file_extension": ".py",
   "mimetype": "text/x-python",
   "name": "python",
   "nbconvert_exporter": "python",
   "pygments_lexer": "ipython3",
   "version": "3.12.7"
  }
 },
 "nbformat": 4,
 "nbformat_minor": 4
}
